{
 "cells": [
  {
   "cell_type": "markdown",
   "id": "a63552c5-acce-4667-a326-26bc216ca414",
   "metadata": {},
   "source": [
    "# Recipes from food.com - comparison of cuisines\n",
    "## Preprocessing\n",
    "\n",
    "Kaggle data set: https://www.kaggle.com/datasets/shuyangli94/food-com-recipes-and-user-interactions/data\n",
    "\n",
    "For the current purpose, we only use 'RAW_recipes.csv'"
   ]
  },
  {
   "cell_type": "code",
   "execution_count": 39,
   "id": "ec4d5ce2-1509-40b7-b5f2-72eb4dd1f1c5",
   "metadata": {},
   "outputs": [],
   "source": [
    "import pandas as pd\n",
    "import numpy as np\n",
    "import ast           "
   ]
  },
  {
   "cell_type": "code",
   "execution_count": 55,
   "id": "58824f7b-d6d1-4242-913b-77c21001b93c",
   "metadata": {},
   "outputs": [],
   "source": [
    "food = pd.read_csv('data/RAW_recipes.csv')"
   ]
  },
  {
   "cell_type": "code",
   "execution_count": 56,
   "id": "6fb6d3e9-10e5-450d-a026-248686513ace",
   "metadata": {},
   "outputs": [
    {
     "data": {
      "text/plain": [
       "Index(['name', 'id', 'minutes', 'contributor_id', 'submitted', 'tags',\n",
       "       'nutrition', 'n_steps', 'steps', 'description', 'ingredients',\n",
       "       'n_ingredients'],\n",
       "      dtype='object')"
      ]
     },
     "execution_count": 56,
     "metadata": {},
     "output_type": "execute_result"
    }
   ],
   "source": [
    "food.columns"
   ]
  },
  {
   "cell_type": "markdown",
   "id": "3cf2565f-68e0-4bd5-9d69-76a325fe6da1",
   "metadata": {},
   "source": [
    "We use only \n",
    "- 'tags' (to filter by cuisine) and\n",
    "- 'nutrition' to compute parts"
   ]
  },
  {
   "cell_type": "markdown",
   "id": "a904e2f4-1120-4efd-92d6-b6b92428d50f",
   "metadata": {},
   "source": [
    "### Data cleaning"
   ]
  },
  {
   "cell_type": "code",
   "execution_count": 57,
   "id": "8d95174a-682b-469d-bba1-af3d37d608d6",
   "metadata": {},
   "outputs": [],
   "source": [
    "food.drop_duplicates(subset = 'id', inplace = True)"
   ]
  },
  {
   "cell_type": "markdown",
   "id": "7bcceee1-d706-4930-9a47-5ad27767844f",
   "metadata": {},
   "source": [
    "column 'nutrition' contains nutrition info as text"
   ]
  },
  {
   "cell_type": "code",
   "execution_count": 58,
   "id": "c902829f-a46e-44bb-b04d-866cda5f96cc",
   "metadata": {},
   "outputs": [],
   "source": [
    "# converting the string lists into real lists\n",
    "food['nutrition_list'] = food['nutrition'].apply(ast.literal_eval)"
   ]
  },
  {
   "cell_type": "code",
   "execution_count": 59,
   "id": "1b76fa4e-1877-49ad-8e56-b49bc14bba44",
   "metadata": {},
   "outputs": [],
   "source": [
    "# extracting calories (0), fat (PDV) (1), protein (PDV) (4) and carbohydrates (6)\n",
    "# PDV stands for “percentage of daily value”\n",
    "food['calories']     = food['nutrition_list'].str.get(0)\n",
    "food['fats_pdv']     = food['nutrition_list'].str.get(1)\n",
    "food['carbs_pdv']    = food['nutrition_list'].str.get(6)\n",
    "food['proteins_pdv'] = food['nutrition_list'].str.get(4)"
   ]
  },
  {
   "cell_type": "markdown",
   "id": "21ef489c-72b2-4538-a288-aba10658b3d3",
   "metadata": {},
   "source": [
    "Since the values for fat, protein and carbs is in percentage of daily volume, we need to recover the actual values.\n",
    "The FDA states specific values for daily intake (DV=100%), specifically 78 g fat, 275 g carbs, and 50 g protein for adults and children over the age of four.\n",
    "\n",
    "$$\n",
    "  g_{f} = \\frac{fat\\ PDV}{100}\\cdot 78\\,g, \\qquad\n",
    "  g_{c} = \\frac{carbs\\ PDV}{100}\\cdot 275\\,g, \\qquad\n",
    "  g_{p} = \\frac{proteins\\ PDV}{100}\\cdot 50\\,g,\n",
    "$$\n"
   ]
  },
  {
   "cell_type": "code",
   "execution_count": 60,
   "id": "da927dcc-9b6c-44cf-a2b7-faf386b7da5c",
   "metadata": {},
   "outputs": [],
   "source": [
    "food['carbs_g']    = food['carbs_pdv']*275.0/100.0\n",
    "food['fats_g']     = food['fats_pdv']*78.0/100.0\n",
    "food['proteins_g'] = food['proteins_pdv']*50.0/100.0\n",
    "\n",
    "# to renormalize we need the total grams\n",
    "food['total_g']= food['fats_g']+food['carbs_g']+food['proteins_g']\n",
    "\n",
    "# later we want to classify low carb and low fat, energy ratios is the standard\n",
    "food['E_carbs']    = 4 * food['carbs_g']\n",
    "food['E_fats']     = 9 * food['fats_g']\n",
    "food['E_proteins'] = 4 * food['proteins_g']\n",
    "\n",
    "# to normalize we need the total energy\n",
    "food['E_total']    = food['E_fats'] + food['E_carbs'] + food['E_proteins']\n",
    "\n",
    "# normalize to percentage\n",
    "food['carbs_perc']    = food['carbs_g'] / food['total_g']\n",
    "food['fats_perc']     = food['fats_g'] / food['total_g']\n",
    "food['proteins_perc'] = food['proteins_g'] / food['total_g']\n",
    "\n",
    "# normalize to percentage\n",
    "food['E_carbs_perc']      = food['E_carbs'] / food['E_total']\n",
    "food['E_fats_perc']       = food['E_fats'] / food['E_total']\n",
    "food['E_proteins_perc']   = food['E_proteins'] / food['E_total']"
   ]
  },
  {
   "cell_type": "markdown",
   "id": "36b53926-446a-42a9-87e0-6c9ce19173e0",
   "metadata": {},
   "source": [
    "## ILR Coordinates\n",
    "\n",
    "To use euclidean methods on ternary data we use isometric log-ratio coordinates. The transform is\n",
    "\n",
    "$$ z_1 = \\sqrt{\\frac{1}{2}}\\ln\\frac{x_1}{x_2}, \\qquad z_2=\\sqrt{\\frac{1}{6}}\\ln\\frac{x_1x_2}{x_3^2} $$\n",
    "\n",
    "where $x_1,x_2,x_3>0$.\n",
    "\n",
    "## Back transform\n",
    "$$ \n",
    "x_i = \\frac{\\exp(y_i)}{\\sum_{k=1}^3\\exp(y_k)},\\qquad\n",
    "y_1 =   \\frac{z_1}{\\sqrt2} +\\frac{z_2}{\\sqrt6},\\qquad\n",
    "y_2 = - \\frac{z_1}{\\sqrt2} +\\frac{z_2}{\\sqrt6},\\qquad\n",
    "y_3 = - \\frac{2z_2}{\\sqrt6}\n",
    "$$"
   ]
  },
  {
   "cell_type": "code",
   "execution_count": 61,
   "id": "0aa0b3a5-a2e9-40c9-9b72-e56e0db8fd56",
   "metadata": {},
   "outputs": [],
   "source": [
    "# x_1 = carb, x_2 = fat, x_3 = protein\n",
    "\n",
    "# the IRL transform cannot handle zero percent values (they are mapped to infinity)\n",
    "# drop everything smaller than ε \n",
    "eps = 0.001\n",
    "\n",
    "mask = (food[['fats_perc', 'carbs_perc', 'proteins_perc']] > eps).all(axis=1)\n",
    "food_nz = food.loc[mask].copy()\n",
    "\n",
    "# transforming ternary coordinates to isometric log-ration\n",
    "food_nz['z1'] = (1.0/np.sqrt(6.0))*np.log(food_nz['carbs_perc']/food_nz['fats_perc'])\n",
    "food_nz['z2'] = (1.0/np.sqrt(6.0))*np.log((food_nz['fats_perc']*food_nz['carbs_perc'])/food_nz['proteins_perc']**2)"
   ]
  },
  {
   "cell_type": "markdown",
   "id": "eacf845c-ef36-46b8-8dbb-d5e49b90b054",
   "metadata": {},
   "source": [
    "### Saving preprocessed data"
   ]
  },
  {
   "cell_type": "code",
   "execution_count": 62,
   "id": "9e7aac64-7c23-4e86-9522-08ac811c4b53",
   "metadata": {},
   "outputs": [],
   "source": [
    "food_nz.to_csv('data/processed/food.csv')"
   ]
  }
 ],
 "metadata": {
  "kernelspec": {
   "display_name": "Python 3 (ipykernel)",
   "language": "python",
   "name": "python3"
  },
  "language_info": {
   "codemirror_mode": {
    "name": "ipython",
    "version": 3
   },
   "file_extension": ".py",
   "mimetype": "text/x-python",
   "name": "python",
   "nbconvert_exporter": "python",
   "pygments_lexer": "ipython3",
   "version": "3.12.10"
  }
 },
 "nbformat": 4,
 "nbformat_minor": 5
}
